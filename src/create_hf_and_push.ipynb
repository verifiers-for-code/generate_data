{
 "cells": [
  {
   "cell_type": "code",
   "execution_count": 2,
   "metadata": {},
   "outputs": [],
   "source": [
    "import json\n",
    "from datasets import load_dataset"
   ]
  },
  {
   "cell_type": "code",
   "execution_count": 3,
   "metadata": {},
   "outputs": [],
   "source": [
    "def format_content(analysis, plan):\n",
    "    formatted = f\"<thinking>\\n{analysis}\\n</thinking>\\n<plan>\\n\"\n",
    "    if isinstance(plan, list):\n",
    "        for step in plan:\n",
    "            formatted += f\"{step}\\n\"\n",
    "    else:\n",
    "        formatted += f\"{plan}\\n\"\n",
    "    formatted += \"</plan>\"\n",
    "    return formatted"
   ]
  },
  {
   "cell_type": "code",
   "execution_count": 4,
   "metadata": {},
   "outputs": [],
   "source": [
    "dataset = load_dataset(\"verifiers-for-code/fitlered-1k-from-546k\")"
   ]
  },
  {
   "cell_type": "code",
   "execution_count": 5,
   "metadata": {},
   "outputs": [],
   "source": [
    "jsonl_data = []\n",
    "with open(\"../data/processed_batch_output_1k_from_546k.jsonl\", \"r\") as f:\n",
    "    try:\n",
    "        data = json.load(f)\n",
    "        jsonl_data = data.get(\"jsons\", [])\n",
    "    except json.JSONDecodeError as e:\n",
    "        print(f\"Error parsing JSON file: {str(e)}\")\n",
    "        jsonl_data = []\n",
    "\n",
    "# Check if we have the same number of items\n",
    "if len(jsonl_data) != len(dataset['train']):\n",
    "    print(f\"Warning: JSONL file ({len(jsonl_data)} items) and dataset ({len(dataset['train'])} items) have different lengths\")\n"
   ]
  },
  {
   "cell_type": "code",
   "execution_count": 6,
   "metadata": {},
   "outputs": [],
   "source": [
    "gpt4_mini_plans = []\n",
    "\n",
    "# Process each row\n",
    "for item in jsonl_data:\n",
    "    analysis = item.get('analysis', \"No analysis available\")\n",
    "    plan = item.get('plan', \"No plan available\")\n",
    "    formatted_content = format_content(analysis, plan)\n",
    "    gpt4_mini_plans.append(formatted_content)"
   ]
  },
  {
   "cell_type": "code",
   "execution_count": 7,
   "metadata": {},
   "outputs": [],
   "source": [
    "min_length = min(len(dataset['train']), len(gpt4_mini_plans))\n",
    "dataset = dataset['train'].select(range(min_length)).add_column('gpt-4o-plans', gpt4_mini_plans[:min_length])"
   ]
  },
  {
   "cell_type": "code",
   "execution_count": 8,
   "metadata": {},
   "outputs": [
    {
     "data": {
      "text/plain": [
       "Dataset({\n",
       "    features: ['input', 'solution', 'plan', 'gpt-4o-plans'],\n",
       "    num_rows: 1000\n",
       "})"
      ]
     },
     "execution_count": 8,
     "metadata": {},
     "output_type": "execute_result"
    }
   ],
   "source": [
    "dataset"
   ]
  },
  {
   "cell_type": "code",
   "execution_count": 9,
   "metadata": {},
   "outputs": [
    {
     "data": {
      "text/plain": [
       "{'input': 'def find_greater_than(numbers, threshold):\\n\\n    \"\"\"\\n    Given a list of numbers and a threshold, find all the numbers in the list that are greater than the threshold.\\n    \\n    Args:\\n    - numbers: A list of numbers (e.g., [1, 5, 10, 2])\\n    - threshold: An integer representing the threshold value\\n    \\n    Returns:\\n    - A list of numbers greater than the threshold\\n    \\n    Example:\\n    >>> find_greater_than([1, 5, 10, 2], 3)\\n    [5, 10]\\n    \"\"\"',\n",
       " 'solution': '\\n    \\n    # Initialize an empty list to store the numbers greater than the threshold\\n    greater_than_threshold = []\\n    \\n    # Iterate over each number in the list\\n    for number in numbers:\\n        \\n        # Check if the number is greater than the threshold\\n        if number > threshold:\\n            \\n            # If it is, add the number to the list\\n            greater_than_threshold.append(number)\\n    \\n    # Return the list of numbers greater than the threshold\\n    return greater_than_threshold\\n',\n",
       " 'plan': \"<thinking>\\nTo create an effective action plan for this problem, I'll break down the solution into clear, logical steps that guide the implementation without providing the full code. The plan should cover:\\n1. Setting up the initial conditions\\n2. Iterating through the list of numbers\\n3. Comparing each number with the threshold\\n4. Storing the numbers greater than the threshold\\n5. Returning the final result\\n</thinking>\\n\\n<plan>\\nAction Plan:\\n1. Initialize an empty list to store the numbers greater than the threshold.\\n2. Iterate through each number in the input list of numbers.\\n3. For each number, compare it with the given threshold:\\n    - Check if the number is greater than the threshold.\\n4. If the number is greater than the threshold, add it to the list of numbers greater than the threshold.\\n5. After iterating through all numbers, return the list of numbers greater than the threshold.\\n\\nNote: Use a conditional statement (e.g., if) to perform the comparison and list methods (e.g., append) to add elements to the result list.\\n</plan>\",\n",
       " 'gpt-4o-plans': \"<thinking>\\nThe function 'find_greater_than' is designed to take a list of numbers and a threshold value as inputs. Its purpose is to return a new list containing only the numbers from the input list that are greater than the given threshold. The inputs include a list of numbers, which can be composed of integers or floats, and a threshold value, which is an integer. The output is a list that is a subset of the input list, containing only those numbers that exceed the threshold. Possible challenges include the handling of edge cases, such as: an empty list, all numbers being less than or equal to the threshold, or non-numeric values in the list (though the user might expect only numeric input based on the context). Additionally, if the threshold is a float, it should be accounted for in comparisons even though the docstring specifies an integer threshold. Efficiency might also be considered if the list is very large, but the basic operation is linear with respect to the list size.\\n</thinking>\\n<plan>\\nInitialize an empty list to store numbers that are greater than the threshold.\\nIterate through each number in the input 'numbers' list.\\nFor each number, check if it is greater than the provided 'threshold' value.\\nIf a number is greater than the threshold, append it to the list initialized in the first step.\\nContinue the loop until all numbers have been checked.\\nReturn the list of numbers that are greater than the threshold after the loop completes.\\nConsider potential exceptions or edge cases, such as handling an empty input list, which should result in returning an empty list. Ensure the function handles cases where none of the numbers exceed the threshold, returning an empty list as well.\\n</plan>\"}"
      ]
     },
     "execution_count": 9,
     "metadata": {},
     "output_type": "execute_result"
    }
   ],
   "source": [
    "dataset[100]"
   ]
  },
  {
   "cell_type": "code",
   "execution_count": 10,
   "metadata": {},
   "outputs": [
    {
     "name": "stderr",
     "output_type": "stream",
     "text": [
      "Creating parquet from Arrow format: 100%|██████████| 1/1 [00:00<00:00, 69.67ba/s]"
     ]
    },
    {
     "name": "stderr",
     "output_type": "stream",
     "text": [
      "\n",
      "Uploading the dataset shards: 100%|██████████| 1/1 [00:00<00:00,  1.73it/s]\n"
     ]
    },
    {
     "data": {
      "text/plain": [
       "CommitInfo(commit_url='https://huggingface.co/datasets/verifiers-for-code/fitlered-1k-from-546k/commit/f8fd73440e3900fb5600261ef16d9a574de967f4', commit_message='Upload dataset', commit_description='', oid='f8fd73440e3900fb5600261ef16d9a574de967f4', pr_url=None, pr_revision=None, pr_num=None)"
      ]
     },
     "execution_count": 10,
     "metadata": {},
     "output_type": "execute_result"
    }
   ],
   "source": [
    "dataset.push_to_hub(\"verifiers-for-code/fitlered-1k-from-546k\")"
   ]
  },
  {
   "cell_type": "code",
   "execution_count": null,
   "metadata": {},
   "outputs": [],
   "source": []
  }
 ],
 "metadata": {
  "kernelspec": {
   "display_name": "vllm_env",
   "language": "python",
   "name": "python3"
  },
  "language_info": {
   "codemirror_mode": {
    "name": "ipython",
    "version": 3
   },
   "file_extension": ".py",
   "mimetype": "text/x-python",
   "name": "python",
   "nbconvert_exporter": "python",
   "pygments_lexer": "ipython3",
   "version": "3.10.14"
  }
 },
 "nbformat": 4,
 "nbformat_minor": 2
}
