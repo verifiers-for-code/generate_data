{
 "cells": [
  {
   "cell_type": "code",
   "execution_count": 62,
   "metadata": {},
   "outputs": [],
   "source": [
    "from datasets import load_dataset, Dataset\n",
    "import tiktoken\n",
    "from collections import Counter\n",
    "import random"
   ]
  },
  {
   "cell_type": "code",
   "execution_count": 63,
   "metadata": {},
   "outputs": [],
   "source": [
    "df = load_dataset('verifiers-for-code/cleaned_deepseek_plans', split='train')"
   ]
  },
  {
   "cell_type": "code",
   "execution_count": 64,
   "metadata": {},
   "outputs": [],
   "source": [
    "enc = tiktoken.encoding_for_model(\"gpt-4\")"
   ]
  },
  {
   "cell_type": "code",
   "execution_count": 65,
   "metadata": {},
   "outputs": [],
   "source": [
    "def token_count(text):\n",
    "    return len(enc.encode(text))\n",
    "\n",
    "def get_unique_random_sample_indices(dataset, n, max_problem_tokens, max_solution_tokens):\n",
    "    # Get all unique problems and their indices, filtering by token count for both problem and solution\n",
    "    unique_problems = {}\n",
    "    for i, (problem, solution) in enumerate(zip(dataset['input'], dataset['code'])):\n",
    "        if (problem not in unique_problems and \n",
    "            token_count(problem) < max_problem_tokens and \n",
    "            token_count(solution) < max_solution_tokens):\n",
    "            unique_problems[problem] = i\n",
    "    \n",
    "    # If we have fewer eligible unique problems than requested, return all of them\n",
    "    if len(unique_problems) <= n:\n",
    "        return list(unique_problems.values())\n",
    "    \n",
    "    # Otherwise, return indices for a random sample\n",
    "    sampled_problems = random.sample(list(unique_problems.keys()), n)\n",
    "    return [unique_problems[problem] for problem in sampled_problems]\n",
    "\n",
    "# Get indices for up to 10,000 unique random samples, \n",
    "# each with problem under 512 tokens and solution under 1024 tokens\n",
    "sampled_indices = get_unique_random_sample_indices(df, 10000, 512, 1024)\n",
    "\n",
    "# Create a new dataset with the sampled rows, keeping all columns\n",
    "result_dataset = df.select(sampled_indices)"
   ]
  },
  {
   "cell_type": "code",
   "execution_count": 66,
   "metadata": {},
   "outputs": [
    {
     "data": {
      "text/plain": [
       "Dataset({\n",
       "    features: ['data_name', 'id', 'prompt', 'code', 'text', 'input', 'generated_plans_DeepSeek-Coder-V2-Instruct'],\n",
       "    num_rows: 10000\n",
       "})"
      ]
     },
     "execution_count": 66,
     "metadata": {},
     "output_type": "execute_result"
    }
   ],
   "source": [
    "result_dataset"
   ]
  },
  {
   "cell_type": "code",
   "execution_count": 67,
   "metadata": {},
   "outputs": [],
   "source": [
    "topush = result_dataset.remove_columns(['data_name', 'id', 'prompt', 'text', 'generated_plans_DeepSeek-Coder-V2-Instruct'])"
   ]
  },
  {
   "cell_type": "code",
   "execution_count": 68,
   "metadata": {},
   "outputs": [
    {
     "data": {
      "text/plain": [
       "Dataset({\n",
       "    features: ['code', 'input'],\n",
       "    num_rows: 10000\n",
       "})"
      ]
     },
     "execution_count": 68,
     "metadata": {},
     "output_type": "execute_result"
    }
   ],
   "source": [
    "topush"
   ]
  },
  {
   "cell_type": "code",
   "execution_count": 69,
   "metadata": {},
   "outputs": [],
   "source": [
    "new_dataset = Dataset.from_dict({\n",
    "    'input': topush['input'],\n",
    "    'code': topush['code']\n",
    "})"
   ]
  },
  {
   "cell_type": "code",
   "execution_count": 70,
   "metadata": {},
   "outputs": [
    {
     "data": {
      "text/plain": [
       "Dataset({\n",
       "    features: ['input', 'code'],\n",
       "    num_rows: 10000\n",
       "})"
      ]
     },
     "execution_count": 70,
     "metadata": {},
     "output_type": "execute_result"
    }
   ],
   "source": [
    "new_dataset"
   ]
  },
  {
   "cell_type": "code",
   "execution_count": 71,
   "metadata": {},
   "outputs": [
    {
     "name": "stderr",
     "output_type": "stream",
     "text": [
      "Creating parquet from Arrow format: 100%|██████████| 10/10 [00:00<00:00, 89.88ba/s]\n",
      "Uploading the dataset shards: 100%|██████████| 1/1 [00:01<00:00,  1.42s/it]\n"
     ]
    },
    {
     "data": {
      "text/plain": [
       "CommitInfo(commit_url='https://huggingface.co/datasets/verifiers-for-code/sampled_10k_from_27k/commit/84a9d4c22b45f9b21f900856a8441e8111bd96dc', commit_message='Upload dataset', commit_description='', oid='84a9d4c22b45f9b21f900856a8441e8111bd96dc', pr_url=None, pr_revision=None, pr_num=None)"
      ]
     },
     "execution_count": 71,
     "metadata": {},
     "output_type": "execute_result"
    }
   ],
   "source": [
    "new_dataset.push_to_hub('verifiers-for-code/sampled_10k_from_27k')"
   ]
  },
  {
   "cell_type": "code",
   "execution_count": null,
   "metadata": {},
   "outputs": [],
   "source": []
  }
 ],
 "metadata": {
  "kernelspec": {
   "display_name": "vllm_env",
   "language": "python",
   "name": "python3"
  },
  "language_info": {
   "codemirror_mode": {
    "name": "ipython",
    "version": 3
   },
   "file_extension": ".py",
   "mimetype": "text/x-python",
   "name": "python",
   "nbconvert_exporter": "python",
   "pygments_lexer": "ipython3",
   "version": "3.10.14"
  }
 },
 "nbformat": 4,
 "nbformat_minor": 2
}
